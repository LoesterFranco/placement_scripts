{
 "cells": [
  {
   "cell_type": "code",
   "execution_count": 38,
   "metadata": {
    "collapsed": true
   },
   "outputs": [],
   "source": [
    "import matplotlib\n",
    "import matplotlib.pyplot as plt\n",
    "import json\n",
    "import random"
   ]
  },
  {
   "cell_type": "code",
   "execution_count": null,
   "metadata": {
    "collapsed": true
   },
   "outputs": [],
   "source": []
  },
  {
   "cell_type": "code",
   "execution_count": 39,
   "metadata": {
    "collapsed": true
   },
   "outputs": [],
   "source": [
    "with open('xkcd_colors.txt', 'r') as f:\n",
    "    xkcd_colors = f.readlines()\n",
    "    xkcd_colors = [c.strip() for c in xkcd_colors]"
   ]
  },
  {
   "cell_type": "code",
   "execution_count": null,
   "metadata": {
    "collapsed": true
   },
   "outputs": [],
   "source": []
  },
  {
   "cell_type": "code",
   "execution_count": 40,
   "metadata": {
    "collapsed": true
   },
   "outputs": [],
   "source": [
    "input_filepath = \"./input_files/16_16_256_30_10_2_20.json\"\n",
    "output_filepath = \"./output_files/16_16_256_30_10_2_20_fm.json\""
   ]
  },
  {
   "cell_type": "code",
   "execution_count": 41,
   "metadata": {
    "collapsed": true
   },
   "outputs": [],
   "source": [
    "with open(input_filepath) as f:\n",
    "    input_data = json.load(f)"
   ]
  },
  {
   "cell_type": "code",
   "execution_count": 42,
   "metadata": {
    "collapsed": true
   },
   "outputs": [],
   "source": [
    "height = input_data[\"height\"]\n",
    "width = input_data[\"width\"]"
   ]
  },
  {
   "cell_type": "code",
   "execution_count": 43,
   "metadata": {
    "collapsed": true
   },
   "outputs": [],
   "source": [
    "with open(output_filepath) as f:\n",
    "    output_data = json.load(f)"
   ]
  },
  {
   "cell_type": "code",
   "execution_count": 44,
   "metadata": {
    "collapsed": true
   },
   "outputs": [],
   "source": [
    "nets = input_data[\"nets\"]"
   ]
  },
  {
   "cell_type": "code",
   "execution_count": 45,
   "metadata": {
    "collapsed": true
   },
   "outputs": [],
   "source": [
    "def find_optimal_edges(net):\n",
    "    res = []\n",
    "    for i in range(len(net) - 1):\n",
    "        res.append((net[i], net[i + 1]))\n",
    "        \n",
    "    return res"
   ]
  },
  {
   "cell_type": "code",
   "execution_count": 46,
   "metadata": {
    "collapsed": true
   },
   "outputs": [],
   "source": [
    "def draw(height, width, module_positions, nets):\n",
    "    \n",
    "    def cell_center(i, j):\n",
    "        return (2 * i + 1) / (2 * height), (2 * j + 1) / (2 * width)\n",
    "    \n",
    "    fig, axs = plt.subplots(figsize=(width, height))\n",
    "\n",
    "    axs.axis('off')\n",
    "\n",
    "    # draw horizontal lines\n",
    "    for i in range(1, height):\n",
    "        y_coord = i / height\n",
    "        plt.plot((0, 1), (y_coord, y_coord), color='black', linewidth=0.5)\n",
    "\n",
    "    # draw vertical lines\n",
    "    for i in range(1, width):\n",
    "        x_coord = i / width\n",
    "        plt.plot((x_coord, x_coord), (0, 1), color='black', linewidth=0.5)\n",
    "\n",
    "    # draw borders\n",
    "    plt.plot([0, 0], [0, 1], color='black')\n",
    "    plt.plot([0, 1], [0, 0], color='black')\n",
    "    plt.plot([1, 1], [0, 1], color='black')\n",
    "    plt.plot([0, 1], [1, 1], color='black')    \n",
    "    \n",
    "    circle_ys = []\n",
    "    circle_xs = []\n",
    "    \n",
    "    for module_id in module_positions:\n",
    "        i = module_positions[module_id][\"x\"]\n",
    "        j = module_positions[module_id][\"y\"]\n",
    "        cx, cy = cell_center(i, j)\n",
    "        circle_xs.append(cx)\n",
    "        circle_ys.append(cy)\n",
    "    \n",
    "    plt.scatter(circle_ys, circle_xs, s=15 * (height + width))\n",
    "    \n",
    "    for i, net in enumerate(nets):\n",
    "        \n",
    "        if random.random() > 1:\n",
    "            continue\n",
    "        \n",
    "        edges = find_optimal_edges(net)\n",
    "        \n",
    "        for edge in edges:\n",
    "            sx = module_positions[str(edge[0])][\"x\"]\n",
    "            sy = module_positions[str(edge[0])][\"y\"]\n",
    "            ex = module_positions[str(edge[1])][\"x\"]\n",
    "            ey = module_positions[str(edge[1])][\"y\"]\n",
    "            \n",
    "            sx, sy = cell_center(sx, sy)\n",
    "            ex, ey = cell_center(ex, ey)\n",
    "                \n",
    "            color_idx = random.randint(0, len(xkcd_colors) - 1)\n",
    "            plt.plot([sy, ey], [sx, ex], color='xkcd:{}'.format(xkcd_colors[color_idx]))\n",
    "            \n",
    "    return plt"
   ]
  },
  {
   "cell_type": "code",
   "execution_count": 47,
   "metadata": {},
   "outputs": [],
   "source": [
    "plt = draw(height, width, output_data, nets)"
   ]
  },
  {
   "cell_type": "code",
   "execution_count": null,
   "metadata": {
    "collapsed": true
   },
   "outputs": [],
   "source": []
  },
  {
   "cell_type": "code",
   "execution_count": 48,
   "metadata": {},
   "outputs": [],
   "source": [
    "plt.savefig(\"fig.png\", bbox_inches='tight')"
   ]
  },
  {
   "cell_type": "code",
   "execution_count": null,
   "metadata": {
    "collapsed": true
   },
   "outputs": [],
   "source": []
  },
  {
   "cell_type": "code",
   "execution_count": null,
   "metadata": {
    "collapsed": true
   },
   "outputs": [],
   "source": []
  }
 ],
 "metadata": {
  "kernelspec": {
   "display_name": "Python 3",
   "language": "python",
   "name": "python3"
  },
  "language_info": {
   "codemirror_mode": {
    "name": "ipython",
    "version": 3
   },
   "file_extension": ".py",
   "mimetype": "text/x-python",
   "name": "python",
   "nbconvert_exporter": "python",
   "pygments_lexer": "ipython3",
   "version": "3.5.2"
  }
 },
 "nbformat": 4,
 "nbformat_minor": 2
}
